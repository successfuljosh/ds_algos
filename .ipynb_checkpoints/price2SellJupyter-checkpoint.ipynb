{
 "cells": [
  {
   "cell_type": "code",
   "execution_count": 170,
   "id": "6195e3ed",
   "metadata": {},
   "outputs": [],
   "source": [
    "import math\n",
    "import os\n",
    "import random\n",
    "import re\n",
    "import sys\n",
    "import numpy as np\n",
    "import pandas as pd"
   ]
  },
  {
   "cell_type": "code",
   "execution_count": 171,
   "id": "5ad5f036",
   "metadata": {},
   "outputs": [],
   "source": [
    "area = [1200, 1200, 1200, 2000]\n",
    "price = [15000, 11000, 17000, 25000]"
   ]
  },
  {
   "cell_type": "code",
   "execution_count": 172,
   "id": "a836e290",
   "metadata": {},
   "outputs": [
    {
     "data": {
      "text/html": [
       "<div>\n",
       "<style scoped>\n",
       "    .dataframe tbody tr th:only-of-type {\n",
       "        vertical-align: middle;\n",
       "    }\n",
       "\n",
       "    .dataframe tbody tr th {\n",
       "        vertical-align: top;\n",
       "    }\n",
       "\n",
       "    .dataframe thead th {\n",
       "        text-align: right;\n",
       "    }\n",
       "</style>\n",
       "<table border=\"1\" class=\"dataframe\">\n",
       "  <thead>\n",
       "    <tr style=\"text-align: right;\">\n",
       "      <th></th>\n",
       "      <th>Area</th>\n",
       "      <th>Price</th>\n",
       "    </tr>\n",
       "  </thead>\n",
       "  <tbody>\n",
       "    <tr>\n",
       "      <th>0</th>\n",
       "      <td>1200</td>\n",
       "      <td>15000</td>\n",
       "    </tr>\n",
       "    <tr>\n",
       "      <th>1</th>\n",
       "      <td>1200</td>\n",
       "      <td>11000</td>\n",
       "    </tr>\n",
       "    <tr>\n",
       "      <th>2</th>\n",
       "      <td>1200</td>\n",
       "      <td>17000</td>\n",
       "    </tr>\n",
       "    <tr>\n",
       "      <th>3</th>\n",
       "      <td>2000</td>\n",
       "      <td>25000</td>\n",
       "    </tr>\n",
       "  </tbody>\n",
       "</table>\n",
       "</div>"
      ],
      "text/plain": [
       "   Area  Price\n",
       "0  1200  15000\n",
       "1  1200  11000\n",
       "2  1200  17000\n",
       "3  2000  25000"
      ]
     },
     "execution_count": 172,
     "metadata": {},
     "output_type": "execute_result"
    }
   ],
   "source": [
    "zippedList = list(zip(area, price))\n",
    "df = pd.DataFrame(zippedList, columns=['Area','Price'])\n",
    "df.head(10)"
   ]
  },
  {
   "cell_type": "code",
   "execution_count": 177,
   "id": "6e4e12f7",
   "metadata": {
    "scrolled": true
   },
   "outputs": [],
   "source": [
    "# def get_mean(data):\n",
    "#     if len(data) == 0:\n",
    "#         return 0\n",
    "#     return sum(data)/len(data)\n",
    "\n",
    "# #calculate standard deviation\n",
    "# def get_std(data):\n",
    "#     if len(data) <= 1:\n",
    "#         return 0\n",
    "#     mean = sum(data)/len(data)\n",
    "#     diff_sq = [(x-mean)**2 for x in data]\n",
    "#     diff_sum = sum(diff_sq)\n",
    "#     st_dev = math.sqrt(diff_sum/(len(data)-1))\n",
    "#     return st_dev\n",
    "\n",
    "# def get_compList(x):\n",
    "#     l = [y for y in df[df['Area']==x['Area']]['Price'].tolist() if y!=x['Price']]\n",
    "#     return l\n",
    "\n",
    "# def pickOutlier(x):\n",
    "#     if len(x['CompList']) == 0:\n",
    "#         return False\n",
    "#     return  x['diff'] > 3*x['Std']\n",
    "\n",
    "def removeOutlier(area, price):\n",
    "    \n",
    "    def get_mean(data):\n",
    "        if len(data) == 0:\n",
    "            return 0\n",
    "        return sum(data)/len(data)\n",
    "\n",
    "    #calculate standard deviation\n",
    "    def get_std(data):\n",
    "        if len(data) <= 1:\n",
    "            return 0\n",
    "        mean = sum(data)/len(data)\n",
    "        diff_sq = [(x-mean)**2 for x in data]\n",
    "        diff_sum = sum(diff_sq)\n",
    "        st_dev = math.sqrt(diff_sum/(len(data)-1))\n",
    "        return st_dev\n",
    "\n",
    "    def get_compList(x):\n",
    "        l = [y for y in df[df['Area']==x['Area']]['Price'].tolist() if y!=x['Price']]\n",
    "        return l\n",
    "\n",
    "    def pickOutlier(x):\n",
    "        if len(x['CompList']) == 0:\n",
    "            return False\n",
    "        return  x['diff'] > 3*x['Std']\n",
    "    \n",
    "    zippedList = list(zip(area, price))\n",
    "    df = pd.DataFrame(zippedList, columns=['Area','Price'])\n",
    "    df['CompList'] = df.apply(get_compList,axis=1)\n",
    "    df['Pm'] = df['CompList'].apply(lambda x: get_mean(x))   \n",
    "    df['diff'] = abs(df['Price']-df['Pm'])\n",
    "    df['Std'] = df['CompList'].apply(lambda x: get_std(x))\n",
    "    df['IsOutlier'] = df.apply(pickOutlier, axis=1)\n",
    "\n",
    "    df2 = df[df['IsOutlier']==False].reset_index()\n",
    "    df2 = df2[['Area','Price']]\n",
    "    return df2\n",
    "#     a = df2['Area'].tolist()\n",
    "#     p = df2['Price'].tolist()\n",
    "#     print('area',a)\n",
    "#     print('price',p)\n",
    "#     return a, p"
   ]
  },
  {
   "cell_type": "code",
   "execution_count": 182,
   "id": "8051623f",
   "metadata": {},
   "outputs": [
    {
     "data": {
      "text/html": [
       "<div>\n",
       "<style scoped>\n",
       "    .dataframe tbody tr th:only-of-type {\n",
       "        vertical-align: middle;\n",
       "    }\n",
       "\n",
       "    .dataframe tbody tr th {\n",
       "        vertical-align: top;\n",
       "    }\n",
       "\n",
       "    .dataframe thead th {\n",
       "        text-align: right;\n",
       "    }\n",
       "</style>\n",
       "<table border=\"1\" class=\"dataframe\">\n",
       "  <thead>\n",
       "    <tr style=\"text-align: right;\">\n",
       "      <th></th>\n",
       "      <th>Area</th>\n",
       "      <th>Price</th>\n",
       "    </tr>\n",
       "  </thead>\n",
       "  <tbody>\n",
       "    <tr>\n",
       "      <th>0</th>\n",
       "      <td>1200</td>\n",
       "      <td>15000</td>\n",
       "    </tr>\n",
       "    <tr>\n",
       "      <th>1</th>\n",
       "      <td>1200</td>\n",
       "      <td>17000</td>\n",
       "    </tr>\n",
       "    <tr>\n",
       "      <th>2</th>\n",
       "      <td>2000</td>\n",
       "      <td>25000</td>\n",
       "    </tr>\n",
       "  </tbody>\n",
       "</table>\n",
       "</div>"
      ],
      "text/plain": [
       "   Area  Price\n",
       "0  1200  15000\n",
       "1  1200  17000\n",
       "2  2000  25000"
      ]
     },
     "execution_count": 182,
     "metadata": {},
     "output_type": "execute_result"
    }
   ],
   "source": [
    "df2 = removeOutlier(area, price)\n",
    "len(df2.index)\n",
    "df2"
   ]
  },
  {
   "cell_type": "code",
   "execution_count": 276,
   "id": "2be0e2ed",
   "metadata": {},
   "outputs": [],
   "source": [
    "def check_boundary(ans):\n",
    "    ans = int(ans)\n",
    "    if ans < 10**3:\n",
    "        return 10**3\n",
    "    if ans > 10**6:\n",
    "        return 10**6\n",
    "    return ans     \n",
    "    \n",
    "def valuation(reqArea, area, price):\n",
    "    # Write your code here\n",
    "    n_area, n_price = removeOutlier(area, price)\n",
    "    df2 = removeOutlier(area, price)\n",
    "    \n",
    "    temp = []\n",
    "\n",
    "    if len(df2.index) == 0:\n",
    "        ans = reqArea *1000\n",
    "        return check_boundary(ans)\n",
    "    \n",
    "    if len(df2.index) == 1:\n",
    "        a =  df2.at[0,'Price']\n",
    "        return check_boundary(a)\n",
    "    \n",
    "    def sameArea(x):\n",
    "        if x['Area'] == reqArea:\n",
    "            temp.append(x['Price'])\n",
    "    \n",
    "    _ = df2.apply(sameArea, axis=1)\n",
    "    if len(temp) > 0:\n",
    "        ans = sum(temp)/len(temp)\n",
    "        return check_boundary(ans)\n",
    "    \n",
    "#     #interpolation\n",
    "    df2 = df2.append({'Area': reqArea}, ignore_index=True)\n",
    "    df2 = df2.sort_values(by=['Area']).reset_index()\n",
    "    index_reqArea = df2[df2['Area']==reqArea].index.values[0]\n",
    "    if index_reqArea !=0 and index_reqArea != len(df2.index)-1:\n",
    "#         df2 = df2.interpolate(method='nearest', limit=1)\n",
    "        A_Area = df2.at[index_reqArea - 1, 'Area']\n",
    "        A_Price = df2.at[index_reqArea - 1, 'Price']\n",
    "        B_Area = df2.at[index_reqArea + 1, 'Area']\n",
    "        B_Price = df2.at[index_reqArea + 1, 'Price']\n",
    "        ans = A_Price + ((reqArea - A_Area) * (B_Price - A_Price)/(B_Area - A_Area))\n",
    "        return check_boundary(ans)\n",
    "    \n",
    "    #right extrapolation \n",
    "    if index_reqArea == len(df2.index)-1:\n",
    "        B_Area = df2.at[index_reqArea - 1, 'Area']\n",
    "        B_Price = df2.at[index_reqArea - 1, 'Price']\n",
    "        ans = B_Price *reqArea/B_Area\n",
    "        return check_boundary(ans)\n",
    "    \n",
    "        #left extrapolation \n",
    "    if index_reqArea == 0:\n",
    "        A_Area = df2.at[index_reqArea +1, 'Area']\n",
    "        A_Price = df2.at[index_reqArea +1, 'Price']\n",
    "        B_Area = df2.at[index_reqArea +2, 'Area']\n",
    "        B_Price = df2.at[index_reqArea +2, 'Price']\n",
    "        ans = A_Price *reqArea/A_Area\n",
    "        return check_boundary(ans)\n",
    "    return df2\n",
    "#     area_price = [(n_area[i], n_price[i]) for i in range(len(n_area))]\n",
    "#     area_price.sort(key=lambda k:k[0])\n",
    "#     #interpolation\n",
    "#     for i in range(0, len(area_price)-1):\n",
    "#         current = area_price[i]\n",
    "#         next_a = area_price[i+1]\n",
    "#         if reqArea < current[0] and reqArea < next_a[0]:\n",
    "#             ans = current[1] + (reqArea - current[0])*((next_a[1] - current[1]) / (next_a[0] - current[0]))\n",
    "#             return check_boundary(ans)\n",
    "        \n",
    "#     #extrapolation from the right\n",
    "#     if reqArea > area_price[-1][0]: \n",
    "#         ans = area_price[-2][1] + (reqArea - area_price[-2][0])*((area_price[-1][1] - area_price[-2][1]) / (area_price[-1][0] - area_price[-2][0]))\n",
    "#         return check_boundary(ans)\n",
    "    \n",
    "#         #extrapolation from the left\n",
    "#     if reqArea < area_price[0][0]: \n",
    "#         ans = area_price[1][1] - (area_price[1][0]-reqArea)*((area_price[1][1] - area_price[0][1]) / (area_price[1][0] - area_price[0][0]))\n",
    "#         return check_boundary(ans)"
   ]
  },
  {
   "cell_type": "code",
   "execution_count": 277,
   "id": "c7c0ec43",
   "metadata": {},
   "outputs": [
    {
     "name": "stdout",
     "output_type": "stream",
     "text": [
      "1200.0\n",
      "13750.0\n",
      "13750\n"
     ]
    }
   ],
   "source": [
    "result = valuation(1100, area, price)\n",
    "print(result)"
   ]
  },
  {
   "cell_type": "code",
   "execution_count": 14,
   "id": "c226ecc2",
   "metadata": {},
   "outputs": [],
   "source": [
    "def maxpathpyramid(arr):\n",
    "    for row in range(len(arr)-2, -1, -1):\n",
    "        for col in range(len(arr[row])):\n",
    "            arr[row][col] += max(arr[row+1][col], arr[row+1][col+1])\n",
    "    return arr[0][0]"
   ]
  },
  {
   "cell_type": "code",
   "execution_count": 15,
   "id": "d0b20506",
   "metadata": {},
   "outputs": [
    {
     "data": {
      "text/plain": [
       "7"
      ]
     },
     "execution_count": 15,
     "metadata": {},
     "output_type": "execute_result"
    }
   ],
   "source": [
    "arr = [[1],[3,-1],[3,1,5]]\n",
    "maxpathpyramid(arr)"
   ]
  },
  {
   "cell_type": "code",
   "execution_count": 18,
   "id": "370bf055",
   "metadata": {},
   "outputs": [
    {
     "data": {
      "text/plain": [
       "[]"
      ]
     },
     "execution_count": 18,
     "metadata": {},
     "output_type": "execute_result"
    }
   ],
   "source": [
    "l=[1,3,-1,3,1,5]\n",
    "arr = []\n",
    "count = 1\n",
    "while count<=len(l):\n",
    "    arr.append(l[:count])\n",
    "    del l[:count]\n",
    "    count += 1\n",
    "l"
   ]
  },
  {
   "cell_type": "code",
   "execution_count": 19,
   "id": "7362c800",
   "metadata": {},
   "outputs": [
    {
     "data": {
      "text/plain": [
       "[[1], [3, -1], [3, 1, 5]]"
      ]
     },
     "execution_count": 19,
     "metadata": {},
     "output_type": "execute_result"
    }
   ],
   "source": [
    "arr"
   ]
  },
  {
   "cell_type": "code",
   "execution_count": null,
   "id": "82c3570c",
   "metadata": {},
   "outputs": [],
   "source": []
  }
 ],
 "metadata": {
  "kernelspec": {
   "display_name": "Python 3 (ipykernel)",
   "language": "python",
   "name": "python3"
  },
  "language_info": {
   "codemirror_mode": {
    "name": "ipython",
    "version": 3
   },
   "file_extension": ".py",
   "mimetype": "text/x-python",
   "name": "python",
   "nbconvert_exporter": "python",
   "pygments_lexer": "ipython3",
   "version": "3.9.7"
  }
 },
 "nbformat": 4,
 "nbformat_minor": 5
}
